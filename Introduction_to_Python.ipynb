{
  "nbformat": 4,
  "nbformat_minor": 0,
  "metadata": {
    "colab": {
      "provenance": [],
      "authorship_tag": "ABX9TyPe9MxLEZ9UchMLK9muVRi7",
      "include_colab_link": true
    },
    "kernelspec": {
      "name": "python3",
      "display_name": "Python 3"
    },
    "language_info": {
      "name": "python"
    }
  },
  "cells": [
    {
      "cell_type": "markdown",
      "metadata": {
        "id": "view-in-github",
        "colab_type": "text"
      },
      "source": [
        "<a href=\"https://colab.research.google.com/github/SHEMODELTECH/python-programming/blob/main/Introduction_to_Python.ipynb\" target=\"_parent\"><img src=\"https://colab.research.google.com/assets/colab-badge.svg\" alt=\"Open In Colab\"/></a>"
      ]
    },
    {
      "cell_type": "markdown",
      "source": [
        "Variables, Comments, Values (Data)"
      ],
      "metadata": {
        "id": "kOoc8XU05bmD"
      }
    },
    {
      "cell_type": "code",
      "execution_count": null,
      "metadata": {
        "colab": {
          "base_uri": "https://localhost:8080/"
        },
        "id": "snxAcUikrrjm",
        "outputId": "b3481b19-19da-46c7-e72b-c9c936822571"
      },
      "outputs": [
        {
          "output_type": "stream",
          "name": "stdout",
          "text": [
            "25\n",
            "56\n"
          ]
        }
      ],
      "source": [
        "#Create a variable that stores the number 25\n",
        "\n",
        "#let the variable be y\n",
        "\n",
        "y = 25\n",
        "\n",
        "#create a variable name that stores the value 56\n",
        "\n",
        "#let my variable name be x\n",
        "\n",
        "x = 56\n",
        "\n",
        "\n",
        "# x : variable\n",
        "# = helps to assign value tp our variable\n",
        "# 56 : value/data (integer: whole no)\n",
        "\n",
        "#we use the print function to display the output/result/values that has been stored in our variables\n",
        "print(y)\n",
        "print(x)\n",
        "\n",
        "\n"
      ]
    },
    {
      "cell_type": "code",
      "source": [
        "#Commenting in python\n",
        "\n",
        "#let my variable name be x\n",
        "\n",
        "x = 56\n",
        "x"
      ],
      "metadata": {
        "colab": {
          "base_uri": "https://localhost:8080/"
        },
        "id": "PGkTDp26uOry",
        "outputId": "d3bc229e-3774-4c52-bb62-964a7a543466"
      },
      "execution_count": null,
      "outputs": [
        {
          "output_type": "execute_result",
          "data": {
            "text/plain": [
              "56"
            ]
          },
          "metadata": {},
          "execution_count": 12
        }
      ]
    },
    {
      "cell_type": "code",
      "source": [
        "#Commenting in python\n",
        "\n",
        "#let my variable name be x\n",
        "\n",
        "x = 56\n",
        "print (x)"
      ],
      "metadata": {
        "colab": {
          "base_uri": "https://localhost:8080/"
        },
        "id": "vK0CfZRiwe6t",
        "outputId": "e4a64a3d-3afc-4382-b134-48383f549d92"
      },
      "execution_count": null,
      "outputs": [
        {
          "output_type": "stream",
          "name": "stdout",
          "text": [
            "56\n"
          ]
        }
      ]
    },
    {
      "cell_type": "code",
      "source": [
        "#Anytime we are working on string, it must be palced in double quote \"\" or single quote ''\n",
        "\n",
        "#Create a variale name that stores \"Hello how are you doing\" and display the output\n",
        "\n",
        "#let my variable name be z\n",
        "\n",
        "z = \"Hello how are you doing\"\n",
        "print (z)\n",
        "\n",
        "x = 'Hello how are you doing'\n",
        "print (x)"
      ],
      "metadata": {
        "colab": {
          "base_uri": "https://localhost:8080/"
        },
        "id": "oqHDMy2exv5u",
        "outputId": "e0a75afe-d040-4572-e2b4-0d8db9a16a4c"
      },
      "execution_count": null,
      "outputs": [
        {
          "output_type": "stream",
          "name": "stdout",
          "text": [
            "Hello how are you doing\n",
            "Hello how are you doing\n"
          ]
        }
      ]
    },
    {
      "cell_type": "code",
      "source": [
        "z = \"Hello how are you doing\"\n",
        "z"
      ],
      "metadata": {
        "colab": {
          "base_uri": "https://localhost:8080/",
          "height": 35
        },
        "id": "yu4a8K_dzOR9",
        "outputId": "1f1351d9-5a45-4253-8479-cbe69ca69b77"
      },
      "execution_count": null,
      "outputs": [
        {
          "output_type": "execute_result",
          "data": {
            "text/plain": [
              "'Hello how are you doing'"
            ],
            "application/vnd.google.colaboratory.intrinsic+json": {
              "type": "string"
            }
          },
          "metadata": {},
          "execution_count": 23
        }
      ]
    },
    {
      "cell_type": "code",
      "source": [
        "#Create a variable name that stores the student cgpa of 2.579 and show the result\n",
        "\n",
        "#let the variable name be w\n",
        "\n",
        "w = 2.579\n",
        "print(w)\n"
      ],
      "metadata": {
        "colab": {
          "base_uri": "https://localhost:8080/"
        },
        "id": "mrNYHfd20IQ6",
        "outputId": "d7536b10-913d-439d-9396-fc298db5b8f4"
      },
      "execution_count": null,
      "outputs": [
        {
          "output_type": "stream",
          "name": "stdout",
          "text": [
            "2.579\n"
          ]
        }
      ]
    },
    {
      "cell_type": "code",
      "source": [
        "#Create a variable name that stores the university students email address and display the result\n",
        "\n",
        "#let the variable name be student_email\n",
        "\n",
        "student_email = \"opeyemi5467@gmail.com\"\n",
        "print(student_email)"
      ],
      "metadata": {
        "colab": {
          "base_uri": "https://localhost:8080/"
        },
        "id": "cI_KftON04wf",
        "outputId": "02f267c4-d640-4af2-d3ed-494531886ad3"
      },
      "execution_count": null,
      "outputs": [
        {
          "output_type": "stream",
          "name": "stdout",
          "text": [
            "opeyemi5467@gmail.com\n"
          ]
        }
      ]
    },
    {
      "cell_type": "code",
      "source": [
        "#Rules for creating variable names\n",
        "\n",
        "#Variable names must not start with numbers for example (7abidemi = 5, 8 = 5)\n",
        "#Variable names must not start with spaecial characters (@ope = 5, #ajoboye = \"Helow how are you doing?\", _ibrahim = 59, )\n",
        "\n",
        "#variable names can start with letters (x, y, z, for example, x = 6)\n",
        "#variable names can contain sequesnce of letters (ope, abidemi, ibrahim, saidat, for example; saidat = 95 )\n",
        "#variable names can contain special characters (ope_hello, ajiboye_y, for example, ajiboye_y = 999.5)\n",
        "\n",
        "\n",
        "#Rule for creating better explainiable variable name\n",
        "\n",
        "#variable name should be created based on the problem or solution you are providing\n",
        "\n",
        "x = 5\n",
        "student_grade = 5\n",
        "\n",
        "std_grd = 5\n",
        "\n",
        "#Another rules, you cannot create a variable name with built-in python names\n",
        "#print = 5\n"
      ],
      "metadata": {
        "id": "4ORkA-Jt1iSh"
      },
      "execution_count": null,
      "outputs": []
    }
  ]
}