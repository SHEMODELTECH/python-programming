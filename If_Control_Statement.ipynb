{
  "nbformat": 4,
  "nbformat_minor": 0,
  "metadata": {
    "colab": {
      "provenance": [],
      "authorship_tag": "ABX9TyOK7ekoDtAzNY0ZglKdIfJ2",
      "include_colab_link": true
    },
    "kernelspec": {
      "name": "python3",
      "display_name": "Python 3"
    },
    "language_info": {
      "name": "python"
    }
  },
  "cells": [
    {
      "cell_type": "markdown",
      "metadata": {
        "id": "view-in-github",
        "colab_type": "text"
      },
      "source": [
        "<a href=\"https://colab.research.google.com/github/SHEMODELTECH/python-programming/blob/main/If_Control_Statement.ipynb\" target=\"_parent\"><img src=\"https://colab.research.google.com/assets/colab-badge.svg\" alt=\"Open In Colab\"/></a>"
      ]
    },
    {
      "cell_type": "code",
      "source": [
        "#Write a program to find the largest numbers between n1, n2, n3\n",
        "\n",
        "n1 = int(input(\"Enter first number: \"))\n",
        "n2 = int(input(\"Enter second number: \"))\n",
        "n3 = int(input(\"Enter third number: \"))\n",
        "\n",
        "largest = n1  # assume n1 is the largest\n",
        "\n",
        "if n2 > largest:\n",
        "    largest = n2\n",
        "\n",
        "if n3 > largest:\n",
        "    largest = n3\n",
        "\n",
        "print(\"The largest number is:\", largest)\n",
        "\n"
      ],
      "metadata": {
        "id": "wjmZ6khaXzHB",
        "outputId": "e129ae09-49f5-428e-819a-cb89c952acb7",
        "colab": {
          "base_uri": "https://localhost:8080/"
        }
      },
      "execution_count": null,
      "outputs": [
        {
          "output_type": "stream",
          "name": "stdout",
          "text": [
            "Enter first number: 8\n",
            "Enter second number: 9\n",
            "Enter third number: 4\n",
            "The largest number is: 9\n"
          ]
        }
      ]
    },
    {
      "cell_type": "code",
      "source": [
        "# Check whether a student passed or failed the exam.\n",
        "# We will assume the passing grade is 50 or above.\n",
        "\n",
        "# Get student score from the user\n",
        "student_grade = int(input('Enter grade: '))\n",
        "\n",
        "# If student_grade is 50 or above,\n",
        "# student_grade >= 50 results to True\n",
        "if student_grade >= 50:\n",
        "    print('Congratulations!')\n",
        "    print('You passed the examination.')"
      ],
      "metadata": {
        "colab": {
          "base_uri": "https://localhost:8080/"
        },
        "id": "_Vhgw01UGjBL",
        "outputId": "dc44edf9-9e9c-4dbf-871d-0138fc81f098"
      },
      "execution_count": null,
      "outputs": [
        {
          "output_type": "stream",
          "name": "stdout",
          "text": [
            "Enter grade: 78\n",
            "Congratulations!\n",
            "You passed the examination.\n"
          ]
        }
      ]
    },
    {
      "cell_type": "code",
      "source": [
        "traffic_signal = input('Enter a traffic signal (red, yellow or green): ')\n",
        "\n",
        "if traffic_signal == 'red':\n",
        "    print('The red light is on.')\n",
        "    print('Stop the vehicle.')\n",
        "\n",
        "print('Have a good day!')"
      ],
      "metadata": {
        "colab": {
          "base_uri": "https://localhost:8080/"
        },
        "id": "CA308L0MUam7",
        "outputId": "bddb7fc0-44ec-4584-912f-a63ae8093e15"
      },
      "execution_count": null,
      "outputs": [
        {
          "output_type": "stream",
          "name": "stdout",
          "text": [
            "Enter a traffic signal (red, yellow or green): green\n",
            "Have a good day!\n"
          ]
        }
      ]
    },
    {
      "cell_type": "code",
      "source": [
        "# Check whether a student passed or failed the exam.\n",
        "# We will assume the passing grade is 50 or above.\n",
        "\n",
        "# Get student score from the user\n",
        "student_grade = int(input('Enter grade: '))\n",
        "\n",
        "# If student_grade is 50 or above,\n",
        "# student_grade >= 50 results to True\n",
        "if student_grade >= 50:\n",
        "    print('Congratulations!')\n",
        "    print('You passed the examination.')"
      ],
      "metadata": {
        "colab": {
          "base_uri": "https://localhost:8080/"
        },
        "id": "RznGMZqUVpQR",
        "outputId": "f0271808-29fb-4032-8b25-8546755491c5"
      },
      "execution_count": null,
      "outputs": [
        {
          "name": "stdout",
          "output_type": "stream",
          "text": [
            "Enter grade: 45\n"
          ]
        }
      ]
    },
    {
      "cell_type": "code",
      "source": [
        "# Get student score from the user\n",
        "student_grade = int(input('Enter grade: '))\n",
        "\n",
        "# If student_grade is 50 or above\n",
        "if student_grade >= 50:\n",
        "    print('Congratulations!')\n",
        "    print('You passed the examination.')\n",
        "\n",
        "# If student_grade is less than 50\n",
        "if student_grade < 50:\n",
        "    print('Sorry.')\n",
        "    print('You failed the examination.')"
      ],
      "metadata": {
        "colab": {
          "base_uri": "https://localhost:8080/"
        },
        "id": "CbMBU24wWZcL",
        "outputId": "947febef-0771-4e0f-ea63-8e77d69925b8"
      },
      "execution_count": null,
      "outputs": [
        {
          "output_type": "stream",
          "name": "stdout",
          "text": [
            "Enter grade: 5\n",
            "Sorry.\n",
            "You failed the examination.\n"
          ]
        }
      ]
    },
    {
      "cell_type": "markdown",
      "source": [
        "IF -ELSE"
      ],
      "metadata": {
        "id": "dHVD28XNXzqm"
      }
    },
    {
      "cell_type": "code",
      "source": [
        "# Get student score from the user\n",
        "student_grade = int(input('Enter grade: '))\n",
        "\n",
        "if student_grade >= 50:\n",
        "    print('Congratulations!')\n",
        "    print('You passed the examination.')\n",
        "else:\n",
        "    print('Sorry.')\n",
        "    print('You failed the examination.')\n",
        "\n",
        "# Always executed because it's outside if...else\n",
        "print(\"Don't you think Python is fun?\")\n"
      ],
      "metadata": {
        "colab": {
          "base_uri": "https://localhost:8080/"
        },
        "id": "AMB4n-9qWxH2",
        "outputId": "217191cc-d3ba-4542-eb14-ee7501e7f012"
      },
      "execution_count": null,
      "outputs": [
        {
          "output_type": "stream",
          "name": "stdout",
          "text": [
            "Enter grade: 78\n",
            "Congratulations!\n",
            "You passed the examination.\n",
            "Don't you think Python is fun?\n"
          ]
        }
      ]
    },
    {
      "cell_type": "code",
      "source": [
        "country = input('Enter country: ')\n",
        "\n",
        "if country == 'france' or country == 'France':\n",
        "    print('Bonjour')\n",
        "else:\n",
        "    print('Hello')\n"
      ],
      "metadata": {
        "colab": {
          "base_uri": "https://localhost:8080/"
        },
        "id": "Xd6QvK-OX3c2",
        "outputId": "2424951d-edd8-4630-981f-c3650c7e2914"
      },
      "execution_count": null,
      "outputs": [
        {
          "output_type": "stream",
          "name": "stdout",
          "text": [
            "Enter country: france\n",
            "Bonjour\n"
          ]
        }
      ]
    },
    {
      "cell_type": "code",
      "source": [
        "country = input('Enter country: ')\n",
        "\n",
        "if country == 'france' or country == 'France':\n",
        "    greeting = 'Bonjour'\n",
        "else:\n",
        "    greeting = 'Hello'\n",
        "\n",
        "print(greeting)"
      ],
      "metadata": {
        "colab": {
          "base_uri": "https://localhost:8080/"
        },
        "id": "tdzQg_iNYZgS",
        "outputId": "9a004c12-f0a8-4581-858e-106930c14820"
      },
      "execution_count": null,
      "outputs": [
        {
          "output_type": "stream",
          "name": "stdout",
          "text": [
            "Enter country: fr\n",
            "Hello\n"
          ]
        }
      ]
    },
    {
      "cell_type": "markdown",
      "source": [
        "ELIF - STATEMENT"
      ],
      "metadata": {
        "id": "soKE3WlWbVtS"
      }
    },
    {
      "cell_type": "code",
      "source": [
        "# Get student grade from the user\n",
        "student_grade = int(input('Enter grade: '))\n",
        "\n",
        "# condition for invalid score\n",
        "if student_grade > 100 or student_grade < 0:\n",
        "    print('Invalid grade.')\n",
        "elif student_grade >= 50:\n",
        "    print('You passed.')\n",
        "else:\n",
        "    print('You failed.')\n"
      ],
      "metadata": {
        "colab": {
          "base_uri": "https://localhost:8080/"
        },
        "id": "YfciFC4haq2i",
        "outputId": "ff1e8832-df05-433e-c54b-5ac609eed7a3"
      },
      "execution_count": null,
      "outputs": [
        {
          "output_type": "stream",
          "name": "stdout",
          "text": [
            "Enter grade: 78\n",
            "You passed.\n"
          ]
        }
      ]
    },
    {
      "cell_type": "code",
      "source": [
        "student_grade = int(input('Enter grade: '))\n",
        "\n",
        "if student_grade > 100 or student_grade < 0:\n",
        "    print('Invalid grade.')\n",
        "if student_grade >= 50:   # elif is changed to if\n",
        "    print('You passed.')\n",
        "else:\n",
        "    print('You failed.')"
      ],
      "metadata": {
        "colab": {
          "base_uri": "https://localhost:8080/"
        },
        "id": "XHPwdDDzbdGy",
        "outputId": "98ac7d0f-6260-4298-f18d-3ef283e16b81"
      },
      "execution_count": null,
      "outputs": [
        {
          "output_type": "stream",
          "name": "stdout",
          "text": [
            "Enter grade: 78\n",
            "You passed.\n"
          ]
        }
      ]
    },
    {
      "cell_type": "code",
      "source": [
        "x = 10\n",
        "\n",
        "if x > 0:\n",
        "    print('Hello')\n",
        "elif x < 100:\n",
        "    print('Hi')\n",
        "else:\n",
        "    print('Howdy')"
      ],
      "metadata": {
        "colab": {
          "base_uri": "https://localhost:8080/"
        },
        "id": "pGcERVRocG9d",
        "outputId": "9597bd53-c08d-4226-e477-07b39cc4826c"
      },
      "execution_count": null,
      "outputs": [
        {
          "output_type": "stream",
          "name": "stdout",
          "text": [
            "Hello\n"
          ]
        }
      ]
    },
    {
      "cell_type": "code",
      "source": [
        "if True:\n",
        "    print('Hello')\n",
        "else:\n",
        "    print('Hi')\n"
      ],
      "metadata": {
        "id": "wDFo-tIKdhP1",
        "outputId": "3871389b-c030-4d3b-9646-123980dcea7e",
        "colab": {
          "base_uri": "https://localhost:8080/"
        }
      },
      "execution_count": null,
      "outputs": [
        {
          "output_type": "stream",
          "name": "stdout",
          "text": [
            "Hello\n"
          ]
        }
      ]
    },
    {
      "cell_type": "code",
      "source": [
        "number = int(input(\"Enter a number: \"))\n",
        "\n",
        "if number > 0:\n",
        "    print(\"Positive\")\n",
        "elif number < 0:\n",
        "    print(\"Negative\")\n",
        "else:\n",
        "    print(\"Zero\")\n"
      ],
      "metadata": {
        "colab": {
          "base_uri": "https://localhost:8080/"
        },
        "id": "3PiFk5yacqWx",
        "outputId": "6cc76163-b96a-4207-8e9e-1064bcc66a7a"
      },
      "execution_count": null,
      "outputs": [
        {
          "output_type": "stream",
          "name": "stdout",
          "text": [
            "Enter a number: 7\n",
            "Positive\n"
          ]
        }
      ]
    },
    {
      "cell_type": "code",
      "source": [],
      "metadata": {
        "id": "UuldbmTsda4y"
      },
      "execution_count": null,
      "outputs": []
    }
  ]
}