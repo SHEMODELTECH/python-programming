{
  "nbformat": 4,
  "nbformat_minor": 0,
  "metadata": {
    "colab": {
      "provenance": [],
      "include_colab_link": true
    },
    "kernelspec": {
      "name": "python3",
      "display_name": "Python 3"
    },
    "language_info": {
      "name": "python"
    }
  },
  "cells": [
    {
      "cell_type": "markdown",
      "metadata": {
        "id": "view-in-github",
        "colab_type": "text"
      },
      "source": [
        "<a href=\"https://colab.research.google.com/github/SHEMODELTECH/python-programming/blob/main/While_loop.ipynb\" target=\"_parent\"><img src=\"https://colab.research.google.com/assets/colab-badge.svg\" alt=\"Open In Colab\"/></a>"
      ]
    },
    {
      "cell_type": "code",
      "execution_count": null,
      "metadata": {
        "id": "vaOMACvXIxQF"
      },
      "outputs": [],
      "source": [
        "#count = 1\n",
        "\n",
        "#while count <= 3:\n",
        "    # code inside the loop\n",
        "    #print('I am inside a loop.')\n",
        "    #print('Looping is interesting.')"
      ]
    },
    {
      "cell_type": "code",
      "source": [
        "count = 1\n",
        "\n",
        "while count <= 3:\n",
        "    print('I am inside a loop.')\n",
        "    print('Looping is interesting.')\n",
        "    count = count + 1\n",
        "\n",
        "# code outside of the loop\n",
        "print('OUTSIDE THE LOOP')"
      ],
      "metadata": {
        "colab": {
          "base_uri": "https://localhost:8080/"
        },
        "id": "TlyL6hvJIyIe",
        "outputId": "29e4eefd-f68e-4883-f705-9e2feb9d8b4a"
      },
      "execution_count": null,
      "outputs": [
        {
          "output_type": "stream",
          "name": "stdout",
          "text": [
            "I am inside a loop.\n",
            "Looping is interesting.\n",
            "I am inside a loop.\n",
            "Looping is interesting.\n",
            "I am inside a loop.\n",
            "Looping is interesting.\n",
            "OUTSIDE THE LOOP\n"
          ]
        }
      ]
    },
    {
      "cell_type": "code",
      "source": [
        "i = 1\n",
        "\n",
        "while (i <= 5):\n",
        "    i = i + 1\n",
        "    print('i =', i)\n"
      ],
      "metadata": {
        "colab": {
          "base_uri": "https://localhost:8080/"
        },
        "id": "_GIrinrpKVoU",
        "outputId": "6a0f3bea-8dc1-4cd6-bee4-1aa43d745d62"
      },
      "execution_count": null,
      "outputs": [
        {
          "output_type": "stream",
          "name": "stdout",
          "text": [
            "i = 2\n",
            "i = 3\n",
            "i = 4\n",
            "i = 5\n",
            "i = 6\n"
          ]
        }
      ]
    },
    {
      "cell_type": "code",
      "source": [
        "i = 0\n",
        "\n",
        "while (i <= 5):\n",
        "    i = i + 1\n",
        "    print('i =', i)\n"
      ],
      "metadata": {
        "colab": {
          "base_uri": "https://localhost:8080/"
        },
        "id": "VsM55UEwNfR4",
        "outputId": "ed0ecaf8-8c4f-49f8-be58-718963dd8393"
      },
      "execution_count": null,
      "outputs": [
        {
          "output_type": "stream",
          "name": "stdout",
          "text": [
            "i = 1\n",
            "i = 2\n",
            "i = 3\n",
            "i = 4\n",
            "i = 5\n",
            "i = 6\n"
          ]
        }
      ]
    },
    {
      "cell_type": "code",
      "source": [
        "n = int(input('Enter a positive number: '))\n",
        "\n",
        "total = 0\n",
        "\n",
        "i = 1\n",
        "while i <= n:\n",
        "    # adding the value of i to total\n",
        "    total = total + i\n",
        "    i = i + 1\n",
        "\n",
        "print(\"Result:\", total)"
      ],
      "metadata": {
        "colab": {
          "base_uri": "https://localhost:8080/"
        },
        "id": "o7dnUVbINknc",
        "outputId": "d5c7d481-a60c-477a-b821-481212220d83"
      },
      "execution_count": null,
      "outputs": [
        {
          "output_type": "stream",
          "name": "stdout",
          "text": [
            "Enter a positive number: 8\n",
            "Result: 36\n"
          ]
        }
      ]
    },
    {
      "cell_type": "code",
      "source": [
        "i = 1\n",
        "n = 6\n",
        "\n",
        "while i < n:\n",
        "    print(i)\n",
        "    i = i + 2 # i increased by 2\n"
      ],
      "metadata": {
        "colab": {
          "base_uri": "https://localhost:8080/"
        },
        "id": "KhdITF7GOh9s",
        "outputId": "934b8082-84a4-4785-ce77-591f3ea51de3"
      },
      "execution_count": null,
      "outputs": [
        {
          "output_type": "stream",
          "name": "stdout",
          "text": [
            "1\n",
            "3\n",
            "5\n"
          ]
        }
      ]
    },
    {
      "cell_type": "code",
      "source": [
        "n = int(input('Enter a positive number: '))\n",
        "\n",
        "total = 0\n",
        "\n",
        "i = 1\n",
        "while i <= n:\n",
        "    # adding the value of i to total\n",
        "    total = total + i\n",
        "    i = i + 1\n",
        "\n",
        "print(\"Result:\", total)\n"
      ],
      "metadata": {
        "colab": {
          "base_uri": "https://localhost:8080/"
        },
        "id": "wEKOfa_vOoQX",
        "outputId": "7afecb01-b41e-429e-ddab-48e92dd60e76"
      },
      "execution_count": null,
      "outputs": [
        {
          "output_type": "stream",
          "name": "stdout",
          "text": [
            "Enter a positive number: 9\n",
            "Result: 45\n"
          ]
        }
      ]
    },
    {
      "cell_type": "code",
      "source": [],
      "metadata": {
        "id": "hDudO5VQQi36"
      },
      "execution_count": null,
      "outputs": []
    }
  ]
}