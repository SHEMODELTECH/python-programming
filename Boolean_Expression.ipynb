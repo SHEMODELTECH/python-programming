{
  "cells": [
    {
      "cell_type": "markdown",
      "metadata": {
        "id": "view-in-github",
        "colab_type": "text"
      },
      "source": [
        "<a href=\"https://colab.research.google.com/github/SHEMODELTECH/python-programming/blob/main/Boolean_Expression.ipynb\" target=\"_parent\"><img src=\"https://colab.research.google.com/assets/colab-badge.svg\" alt=\"Open In Colab\"/></a>"
      ]
    },
    {
      "cell_type": "code",
      "execution_count": null,
      "metadata": {
        "colab": {
          "base_uri": "https://localhost:8080/"
        },
        "id": "cuC3G4tbPlWY",
        "outputId": "841497f9-159b-4d10-9ebd-d7dd31928715"
      },
      "outputs": [
        {
          "name": "stdout",
          "output_type": "stream",
          "text": [
            "True\n",
            "False\n"
          ]
        }
      ],
      "source": [
        "result1=True\n",
        "result2=False\n",
        "print(result1)\n",
        "print(result2)\n"
      ]
    },
    {
      "cell_type": "code",
      "execution_count": null,
      "metadata": {
        "colab": {
          "base_uri": "https://localhost:8080/"
        },
        "id": "zwCIKJJcPqtT",
        "outputId": "6a5af5ff-77e8-40cb-ab85-67a6080a9d11"
      },
      "outputs": [
        {
          "name": "stdout",
          "output_type": "stream",
          "text": [
            "True\n",
            "True\n",
            "False\n",
            "False\n"
          ]
        }
      ],
      "source": [
        "number =40\n",
        "print(number>=40)\n",
        "print(number>=39.9)\n",
        "print(40>number)\n",
        "print(39.9>=number)\n",
        "\n"
      ]
    },
    {
      "cell_type": "code",
      "execution_count": null,
      "metadata": {
        "colab": {
          "base_uri": "https://localhost:8080/"
        },
        "id": "SgO69rSIPudi",
        "outputId": "a78ee2b6-f626-4a30-c4b9-0df49da5621b"
      },
      "outputs": [
        {
          "name": "stdout",
          "output_type": "stream",
          "text": [
            "Enter a number: 8\n",
            "True\n"
          ]
        }
      ],
      "source": [
        "number = int(input(\"Enter a number: \"))\n",
        "print(number % 2 == 0)\n",
        "\n"
      ]
    },
    {
      "cell_type": "code",
      "execution_count": null,
      "metadata": {
        "colab": {
          "base_uri": "https://localhost:8080/"
        },
        "id": "0D6XZEtBPxVa",
        "outputId": "04819341-40ad-40e0-c42c-3b233d3ab9c7"
      },
      "outputs": [
        {
          "name": "stdout",
          "output_type": "stream",
          "text": [
            "True\n",
            "False\n",
            "False\n",
            "False\n"
          ]
        }
      ],
      "source": [
        "age = 22\n",
        "gpa = 3.6\n",
        "print(age>=18 and gpa >3.5)\n",
        "print(age>=18 and gpa > 3.7)\n",
        "print(age>=25 and gpa >3.5)\n",
        "print(age>=25 and gpa >3.7)\n"
      ]
    },
    {
      "cell_type": "code",
      "execution_count": 1,
      "metadata": {
        "colab": {
          "base_uri": "https://localhost:8080/"
        },
        "outputId": "96c932df-c99b-4bc8-be15-25bcb9d10314",
        "id": "ONUZER7maw86"
      },
      "outputs": [
        {
          "output_type": "stream",
          "name": "stdout",
          "text": [
            "True\n",
            "True\n",
            "True\n",
            "False\n"
          ]
        }
      ],
      "source": [
        "age = 22\n",
        "gpa = 3.6\n",
        "print(age>=18 or gpa >3.5)\n",
        "print(age>=18 or gpa > 3.7)\n",
        "print(age>=25 or gpa >3.5)\n",
        "print(age>=25 or gpa >3.7)\n"
      ]
    }
  ],
  "metadata": {
    "colab": {
      "provenance": [],
      "authorship_tag": "ABX9TyMeVHIFUOugFTfwMlk5gp5V",
      "include_colab_link": true
    },
    "kernelspec": {
      "display_name": "Python 3",
      "name": "python3"
    },
    "language_info": {
      "name": "python"
    }
  },
  "nbformat": 4,
  "nbformat_minor": 0
}