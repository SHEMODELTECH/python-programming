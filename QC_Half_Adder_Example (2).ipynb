{
  "nbformat": 4,
  "nbformat_minor": 0,
  "metadata": {
    "colab": {
      "provenance": []
    },
    "kernelspec": {
      "name": "python3",
      "display_name": "Python 3"
    },
    "language_info": {
      "name": "python"
    }
  },
  "cells": [
    {
      "cell_type": "code",
      "execution_count": null,
      "metadata": {
        "colab": {
          "base_uri": "https://localhost:8080/"
        },
        "id": "-Zp5y7qksxoP",
        "outputId": "4edb6360-81a5-4fe6-9b82-1df689e2ed36"
      },
      "outputs": [
        {
          "output_type": "stream",
          "name": "stdout",
          "text": [
            "Looking in indexes: https://pypi.org/simple, https://us-python.pkg.dev/colab-wheels/public/simple/\n",
            "Collecting qiskit\n",
            "  Downloading qiskit-0.42.1.tar.gz (14 kB)\n",
            "  Preparing metadata (setup.py) ... \u001b[?25l\u001b[?25hdone\n",
            "Collecting qiskit-terra==0.23.3\n",
            "  Downloading qiskit_terra-0.23.3-cp39-cp39-manylinux_2_17_x86_64.manylinux2014_x86_64.whl (5.1 MB)\n",
            "\u001b[2K     \u001b[90m━━━━━━━━━━━━━━━━━━━━━━━━━━━━━━━━━━━━━━━━\u001b[0m \u001b[32m5.1/5.1 MB\u001b[0m \u001b[31m39.3 MB/s\u001b[0m eta \u001b[36m0:00:00\u001b[0m\n",
            "\u001b[?25hCollecting qiskit-aer==0.12.0\n",
            "  Downloading qiskit_aer-0.12.0-cp39-cp39-manylinux_2_17_x86_64.manylinux2014_x86_64.whl (12.8 MB)\n",
            "\u001b[2K     \u001b[90m━━━━━━━━━━━━━━━━━━━━━━━━━━━━━━━━━━━━━━━━\u001b[0m \u001b[32m12.8/12.8 MB\u001b[0m \u001b[31m44.7 MB/s\u001b[0m eta \u001b[36m0:00:00\u001b[0m\n",
            "\u001b[?25hCollecting qiskit-ibmq-provider==0.20.2\n",
            "  Downloading qiskit_ibmq_provider-0.20.2-py3-none-any.whl (241 kB)\n",
            "\u001b[2K     \u001b[90m━━━━━━━━━━━━━━━━━━━━━━━━━━━━━━━━━━━━━━━\u001b[0m \u001b[32m241.5/241.5 KB\u001b[0m \u001b[31m8.2 MB/s\u001b[0m eta \u001b[36m0:00:00\u001b[0m\n",
            "\u001b[?25hRequirement already satisfied: scipy>=1.0 in /usr/local/lib/python3.9/dist-packages (from qiskit-aer==0.12.0->qiskit) (1.10.1)\n",
            "Requirement already satisfied: numpy>=1.16.3 in /usr/local/lib/python3.9/dist-packages (from qiskit-aer==0.12.0->qiskit) (1.22.4)\n",
            "Collecting websocket-client>=1.5.1\n",
            "  Downloading websocket_client-1.5.1-py3-none-any.whl (55 kB)\n",
            "\u001b[2K     \u001b[90m━━━━━━━━━━━━━━━━━━━━━━━━━━━━━━━━━━━━━━━━\u001b[0m \u001b[32m55.9/55.9 KB\u001b[0m \u001b[31m3.8 MB/s\u001b[0m eta \u001b[36m0:00:00\u001b[0m\n",
            "\u001b[?25hCollecting websockets>=10.0\n",
            "  Downloading websockets-11.0-cp39-cp39-manylinux_2_5_x86_64.manylinux1_x86_64.manylinux_2_17_x86_64.manylinux2014_x86_64.whl (129 kB)\n",
            "\u001b[2K     \u001b[90m━━━━━━━━━━━━━━━━━━━━━━━━━━━━━━━━━━━━━━━\u001b[0m \u001b[32m129.5/129.5 KB\u001b[0m \u001b[31m4.5 MB/s\u001b[0m eta \u001b[36m0:00:00\u001b[0m\n",
            "\u001b[?25hRequirement already satisfied: python-dateutil>=2.8.0 in /usr/local/lib/python3.9/dist-packages (from qiskit-ibmq-provider==0.20.2->qiskit) (2.8.2)\n",
            "Collecting requests-ntlm<=1.1.0\n",
            "  Downloading requests_ntlm-1.1.0-py2.py3-none-any.whl (5.7 kB)\n",
            "Requirement already satisfied: requests>=2.19 in /usr/local/lib/python3.9/dist-packages (from qiskit-ibmq-provider==0.20.2->qiskit) (2.27.1)\n",
            "Requirement already satisfied: urllib3>=1.21.1 in /usr/local/lib/python3.9/dist-packages (from qiskit-ibmq-provider==0.20.2->qiskit) (1.26.15)\n",
            "Requirement already satisfied: sympy>=1.3 in /usr/local/lib/python3.9/dist-packages (from qiskit-terra==0.23.3->qiskit) (1.11.1)\n",
            "Collecting ply>=3.10\n",
            "  Downloading ply-3.11-py2.py3-none-any.whl (49 kB)\n",
            "\u001b[2K     \u001b[90m━━━━━━━━━━━━━━━━━━━━━━━━━━━━━━━━━━━━━━━━\u001b[0m \u001b[32m49.6/49.6 KB\u001b[0m \u001b[31m4.5 MB/s\u001b[0m eta \u001b[36m0:00:00\u001b[0m\n",
            "\u001b[?25hRequirement already satisfied: psutil>=5 in /usr/local/lib/python3.9/dist-packages (from qiskit-terra==0.23.3->qiskit) (5.9.4)\n",
            "Collecting rustworkx>=0.12.0\n",
            "  Downloading rustworkx-0.12.1-cp39-cp39-manylinux_2_17_x86_64.manylinux2014_x86_64.whl (1.9 MB)\n",
            "\u001b[2K     \u001b[90m━━━━━━━━━━━━━━━━━━━━━━━━━━━━━━━━━━━━━━━━\u001b[0m \u001b[32m1.9/1.9 MB\u001b[0m \u001b[31m68.5 MB/s\u001b[0m eta \u001b[36m0:00:00\u001b[0m\n",
            "\u001b[?25hCollecting dill>=0.3\n",
            "  Downloading dill-0.3.6-py3-none-any.whl (110 kB)\n",
            "\u001b[2K     \u001b[90m━━━━━━━━━━━━━━━━━━━━━━━━━━━━━━━━━━━━━━\u001b[0m \u001b[32m110.5/110.5 KB\u001b[0m \u001b[31m10.5 MB/s\u001b[0m eta \u001b[36m0:00:00\u001b[0m\n",
            "\u001b[?25hCollecting symengine>=0.9\n",
            "  Downloading symengine-0.10.0-cp39-cp39-manylinux_2_12_x86_64.manylinux2010_x86_64.whl (37.5 MB)\n",
            "\u001b[2K     \u001b[90m━━━━━━━━━━━━━━━━━━━━━━━━━━━━━━━━━━━━━━━━\u001b[0m \u001b[32m37.5/37.5 MB\u001b[0m \u001b[31m17.4 MB/s\u001b[0m eta \u001b[36m0:00:00\u001b[0m\n",
            "\u001b[?25hCollecting stevedore>=3.0.0\n",
            "  Downloading stevedore-5.0.0-py3-none-any.whl (49 kB)\n",
            "\u001b[2K     \u001b[90m━━━━━━━━━━━━━━━━━━━━━━━━━━━━━━━━━━━━━━━━\u001b[0m \u001b[32m49.6/49.6 KB\u001b[0m \u001b[31m3.1 MB/s\u001b[0m eta \u001b[36m0:00:00\u001b[0m\n",
            "\u001b[?25hRequirement already satisfied: six>=1.5 in /usr/local/lib/python3.9/dist-packages (from python-dateutil>=2.8.0->qiskit-ibmq-provider==0.20.2->qiskit) (1.16.0)\n",
            "Requirement already satisfied: charset-normalizer~=2.0.0 in /usr/local/lib/python3.9/dist-packages (from requests>=2.19->qiskit-ibmq-provider==0.20.2->qiskit) (2.0.12)\n",
            "Requirement already satisfied: certifi>=2017.4.17 in /usr/local/lib/python3.9/dist-packages (from requests>=2.19->qiskit-ibmq-provider==0.20.2->qiskit) (2022.12.7)\n",
            "Requirement already satisfied: idna<4,>=2.5 in /usr/local/lib/python3.9/dist-packages (from requests>=2.19->qiskit-ibmq-provider==0.20.2->qiskit) (3.4)\n",
            "Collecting ntlm-auth>=1.0.2\n",
            "  Downloading ntlm_auth-1.5.0-py2.py3-none-any.whl (29 kB)\n",
            "Requirement already satisfied: cryptography>=1.3 in /usr/local/lib/python3.9/dist-packages (from requests-ntlm<=1.1.0->qiskit-ibmq-provider==0.20.2->qiskit) (40.0.1)\n",
            "Collecting pbr!=2.1.0,>=2.0.0\n",
            "  Downloading pbr-5.11.1-py2.py3-none-any.whl (112 kB)\n",
            "\u001b[2K     \u001b[90m━━━━━━━━━━━━━━━━━━━━━━━━━━━━━━━━━━━━━━━\u001b[0m \u001b[32m112.7/112.7 KB\u001b[0m \u001b[31m4.4 MB/s\u001b[0m eta \u001b[36m0:00:00\u001b[0m\n",
            "\u001b[?25hRequirement already satisfied: mpmath>=0.19 in /usr/local/lib/python3.9/dist-packages (from sympy>=1.3->qiskit-terra==0.23.3->qiskit) (1.3.0)\n",
            "Requirement already satisfied: cffi>=1.12 in /usr/local/lib/python3.9/dist-packages (from cryptography>=1.3->requests-ntlm<=1.1.0->qiskit-ibmq-provider==0.20.2->qiskit) (1.15.1)\n",
            "Requirement already satisfied: pycparser in /usr/local/lib/python3.9/dist-packages (from cffi>=1.12->cryptography>=1.3->requests-ntlm<=1.1.0->qiskit-ibmq-provider==0.20.2->qiskit) (2.21)\n",
            "Building wheels for collected packages: qiskit\n",
            "  Building wheel for qiskit (setup.py) ... \u001b[?25l\u001b[?25hdone\n",
            "  Created wheel for qiskit: filename=qiskit-0.42.1-py3-none-any.whl size=12938 sha256=4cb0d43a7a1bb93b953b8ffc303fd1d348de5dbb82bd563a52a19ba1af028259\n",
            "  Stored in directory: /root/.cache/pip/wheels/40/64/74/29c046bda04fd60f3f6b2e244fa85b70f219e363fc3373f541\n",
            "Successfully built qiskit\n",
            "Installing collected packages: ply, websockets, websocket-client, symengine, rustworkx, pbr, ntlm-auth, dill, stevedore, requests-ntlm, qiskit-terra, qiskit-ibmq-provider, qiskit-aer, qiskit\n",
            "Successfully installed dill-0.3.6 ntlm-auth-1.5.0 pbr-5.11.1 ply-3.11 qiskit-0.42.1 qiskit-aer-0.12.0 qiskit-ibmq-provider-0.20.2 qiskit-terra-0.23.3 requests-ntlm-1.1.0 rustworkx-0.12.1 stevedore-5.0.0 symengine-0.10.0 websocket-client-1.5.1 websockets-11.0\n"
          ]
        }
      ],
      "source": [
        "!pip install qiskit"
      ]
    },
    {
      "cell_type": "code",
      "source": [
        "from qiskit import QuantumCircuit, Aer, assemble, execute\n",
        "import numpy as np\n",
        "from qiskit.visualization import plot_histogram, plot_bloch_multivector"
      ],
      "metadata": {
        "id": "qKWcpPYNs2zI"
      },
      "execution_count": null,
      "outputs": []
    },
    {
      "cell_type": "code",
      "source": [
        "qc = QuantumCircuit(2,2)\n",
        "\n",
        "#QISKIT syntax for CNOT\n",
        "qc.cx(0,1)  \n",
        "#SYNTAX: qc.(conrtol qubit, target qubit)\n",
        "\n",
        "# See the circuit:\n",
        "qc.draw()\n"
      ],
      "metadata": {
        "colab": {
          "base_uri": "https://localhost:8080/",
          "height": 125
        },
        "id": "7r1dDTVztAdN",
        "outputId": "1635ae87-462b-4f4a-9884-17dfb2a4864b"
      },
      "execution_count": null,
      "outputs": [
        {
          "output_type": "execute_result",
          "data": {
            "text/plain": [
              "          \n",
              "q_0: ──■──\n",
              "     ┌─┴─┐\n",
              "q_1: ┤ X ├\n",
              "     └───┘\n",
              "c: 2/═════\n",
              "          "
            ],
            "text/html": [
              "<pre style=\"word-wrap: normal;white-space: pre;background: #fff0;line-height: 1.1;font-family: &quot;Courier New&quot;,Courier,monospace\">          \n",
              "q_0: ──■──\n",
              "     ┌─┴─┐\n",
              "q_1: ┤ X ├\n",
              "     └───┘\n",
              "c: 2/═════\n",
              "          </pre>"
            ]
          },
          "metadata": {},
          "execution_count": 3
        }
      ]
    },
    {
      "cell_type": "code",
      "source": [
        "qc = QuantumCircuit(3,2)\n",
        "\n",
        "#QISKIT syntax for Toffoli \n",
        "qc.ccx(0,1,2) \n",
        "#SYNTAX: qc.(conrtol qubit, conrtol qubit, target qubit)\n",
        "\n",
        "# See the circuit:\n",
        "qc.draw()"
      ],
      "metadata": {
        "colab": {
          "base_uri": "https://localhost:8080/",
          "height": 156
        },
        "id": "L55ztSzrwFAm",
        "outputId": "818b42b9-bcee-42fa-d58f-ac1ddaa52727"
      },
      "execution_count": null,
      "outputs": [
        {
          "output_type": "execute_result",
          "data": {
            "text/plain": [
              "          \n",
              "q_0: ──■──\n",
              "       │  \n",
              "q_1: ──■──\n",
              "     ┌─┴─┐\n",
              "q_2: ┤ X ├\n",
              "     └───┘\n",
              "c: 2/═════\n",
              "          "
            ],
            "text/html": [
              "<pre style=\"word-wrap: normal;white-space: pre;background: #fff0;line-height: 1.1;font-family: &quot;Courier New&quot;,Courier,monospace\">          \n",
              "q_0: ──■──\n",
              "       │  \n",
              "q_1: ──■──\n",
              "     ┌─┴─┐\n",
              "q_2: ┤ X ├\n",
              "     └───┘\n",
              "c: 2/═════\n",
              "          </pre>"
            ]
          },
          "metadata": {},
          "execution_count": 4
        }
      ]
    },
    {
      "cell_type": "code",
      "source": [
        "\"\"\"\n",
        "From Qiskit textbook: Section 2.4\n",
        "      The Toffoli gate is a three-qubit gate with two controls and one target. \n",
        "      It performs an X on the target only if both controls are in the state |1⟩. \n",
        "      The final state of the target is then equal to either the AND or the NAND of the two controls, \n",
        "      depending on whether the initial state of the target was |0⟩ or |1⟩. \n",
        "      A Toffoli can also be thought of as a controlled-controlled-NOT, \n",
        "      and is also called the CCX gate.\n",
        "\n",
        "In thie above circuit, q2 is the target (q0, q1 are the controls). \n",
        "It should be clear that CCX is unitary and, hence, reversible:\n",
        "  |q2  q1  q0> ||  |q2'  q1'  q0'>\n",
        "  0   0   0    ||  0    0    0\n",
        "  0   0   1    ||  0    0    1\n",
        "  0   1   0    ||  0    1    0\n",
        "  0   1   1    ||  1    1    1\n",
        "  1   0   0    ||  1    0    0\n",
        "  1   0   1    ||  1    0    1\n",
        "  1   1   0    ||  1    1    0\n",
        "  1   1   1    ||  0    1    1\n",
        "\n",
        "If |q2> == |0> ==> |q2'> = |q1 and q0>\n",
        "If |q2> == |1>  ==> |q1 nand q0>\n",
        "\"\"\""
      ],
      "metadata": {
        "colab": {
          "base_uri": "https://localhost:8080/",
          "height": 125
        },
        "id": "CgigbDUXQLvB",
        "outputId": "e482e8e3-3b46-49e7-f717-fc3d1014ac05"
      },
      "execution_count": null,
      "outputs": [
        {
          "output_type": "execute_result",
          "data": {
            "text/plain": [
              "\"\\nFrom Qiskit textbook: Section 2.4\\n      The Toffoli gate is a three-qubit gate with two controls and one target. \\n      It performs an X on the target only if both controls are in the state |1⟩. \\n      The final state of the target is then equal to either the AND or the NAND of the two controls, \\n      depending on whether the initial state of the target was |0⟩ or |1⟩. \\n      A Toffoli can also be thought of as a controlled-controlled-NOT, \\n      and is also called the CCX gate.\\n\\nIn thie above circuit, q2 is the target (q0, q1 are the controls). \\nIt should be clear that CCX is unitary and, hence, reversible:\\n  |q2  q1  q0> ||  |q2'  q1'  q0'>\\n  0   0   0    ||  0    0    0\\n  0   0   1    ||  0    0    1\\n  0   1   0    ||  0    1    0\\n  0   1   1    ||  1    1    1\\n  1   0   0    ||  1    0    0\\n  1   0   1    ||  1    0    1\\n  1   1   0    ||  1    1    0\\n  1   1   1    ||  0    1    1\\n\\nIf |q2> == |0> ==> |q2'> = |q1 and q0>\\nIf |q2> == |1>  ==> |q1 nand q0>\\n\""
            ],
            "application/vnd.google.colaboratory.intrinsic+json": {
              "type": "string"
            }
          },
          "metadata": {},
          "execution_count": 5
        }
      ]
    },
    {
      "cell_type": "code",
      "source": [
        "qc = QuantumCircuit(3,3)\n",
        "\n",
        "#use the X gates to toggle the input qubit values\n",
        "xinput = [1,1,1]  #vary these input values for all 4 cases   \n",
        "if xinput[2] == 1:\n",
        "  qc.x(0)\n",
        "if xinput[1] == 1:\n",
        "  qc.x(1)\n",
        "if xinput[0] == 1:\n",
        "  qc.x(2)\n",
        "qc.barrier()\n",
        "\n",
        "qc.ccx(0,1,2)    #QC Toffoli gate\n",
        "\n",
        "qc.barrier()\n",
        "qc.measure(0,0) # measure the control value\n",
        "qc.measure(1,1) # measure the control value\n",
        "qc.measure(2,2) # measure the target value\n",
        "\n",
        "# See the circuit:\n",
        "qc.draw()"
      ],
      "metadata": {
        "colab": {
          "base_uri": "https://localhost:8080/",
          "height": 156
        },
        "id": "zeGZ8VDx3fdh",
        "outputId": "5b206b0e-48f7-4ce0-a21c-64cf8cfc4ee3"
      },
      "execution_count": null,
      "outputs": [
        {
          "output_type": "execute_result",
          "data": {
            "text/plain": [
              "     ┌───┐ ░       ░ ┌─┐      \n",
              "q_0: ┤ X ├─░───■───░─┤M├──────\n",
              "     ├───┤ ░   │   ░ └╥┘┌─┐   \n",
              "q_1: ┤ X ├─░───■───░──╫─┤M├───\n",
              "     ├───┤ ░ ┌─┴─┐ ░  ║ └╥┘┌─┐\n",
              "q_2: ┤ X ├─░─┤ X ├─░──╫──╫─┤M├\n",
              "     └───┘ ░ └───┘ ░  ║  ║ └╥┘\n",
              "c: 3/═════════════════╩══╩══╩═\n",
              "                      0  1  2 "
            ],
            "text/html": [
              "<pre style=\"word-wrap: normal;white-space: pre;background: #fff0;line-height: 1.1;font-family: &quot;Courier New&quot;,Courier,monospace\">     ┌───┐ ░       ░ ┌─┐      \n",
              "q_0: ┤ X ├─░───■───░─┤M├──────\n",
              "     ├───┤ ░   │   ░ └╥┘┌─┐   \n",
              "q_1: ┤ X ├─░───■───░──╫─┤M├───\n",
              "     ├───┤ ░ ┌─┴─┐ ░  ║ └╥┘┌─┐\n",
              "q_2: ┤ X ├─░─┤ X ├─░──╫──╫─┤M├\n",
              "     └───┘ ░ └───┘ ░  ║  ║ └╥┘\n",
              "c: 3/═════════════════╩══╩══╩═\n",
              "                      0  1  2 </pre>"
            ]
          },
          "metadata": {},
          "execution_count": 6
        }
      ]
    },
    {
      "cell_type": "code",
      "source": [
        "backend = Aer.get_backend('qasm_simulator')\n",
        "counts = execute(qc,backend).result().get_counts()\n",
        "plot_histogram(counts)"
      ],
      "metadata": {
        "id": "SjSFlIAM4H4t",
        "colab": {
          "base_uri": "https://localhost:8080/",
          "height": 472
        },
        "outputId": "3be11751-1b02-417f-ca3c-a2bfb2a175fb"
      },
      "execution_count": null,
      "outputs": [
        {
          "output_type": "execute_result",
          "data": {
            "text/plain": [
              "<Figure size 700x500 with 1 Axes>"
            ],
            "image/png": "[encoded data removed]"
          },
          "metadata": {},
          "execution_count": 7
        }
      ]
    },
    {
      "cell_type": "code",
      "source": [
        "#quantum half adder \n",
        "\n",
        "qc_ha = QuantumCircuit(4,2)\n",
        "# encode inputs in qubits 0 and 1\n",
        "#use the X gates to toggle the input qubit values\n",
        "xinput = [1,0]  #vary these input values for all 4 cases   \n",
        "if xinput[1] == 1:\n",
        "  qc_ha.x(0)\n",
        "if xinput[0] == 1:\n",
        "  qc_ha.x(1)\n",
        "qc_ha.barrier()\n",
        "\n",
        "# use cnots to write the XOR of the inputs on qubit 2\n",
        "qc_ha.cx(0,2)\n",
        "qc_ha.cx(1,2)\n",
        "# use ccx to write the AND of the inputs on qubit 3\n",
        "qc_ha.ccx(0,1,3)\n",
        "qc_ha.barrier()\n",
        "# extract outputs\n",
        "qc_ha.measure(2,0) # extract XOR value\n",
        "qc_ha.measure(3,1) # extract AND value\n",
        "\n",
        "qc_ha.draw()"
      ],
      "metadata": {
        "colab": {
          "base_uri": "https://localhost:8080/",
          "height": 186
        },
        "id": "LgrdqSLRcDDN",
        "outputId": "8bf94e4e-a6b5-408b-9f00-16a22f36b483"
      },
      "execution_count": null,
      "outputs": [
        {
          "output_type": "execute_result",
          "data": {
            "text/plain": [
              "           ░                 ░       \n",
              "q_0: ──────░───■─────────■───░───────\n",
              "     ┌───┐ ░   │         │   ░       \n",
              "q_1: ┤ X ├─░───┼────■────■───░───────\n",
              "     └───┘ ░ ┌─┴─┐┌─┴─┐  │   ░ ┌─┐   \n",
              "q_2: ──────░─┤ X ├┤ X ├──┼───░─┤M├───\n",
              "           ░ └───┘└───┘┌─┴─┐ ░ └╥┘┌─┐\n",
              "q_3: ──────░───────────┤ X ├─░──╫─┤M├\n",
              "           ░           └───┘ ░  ║ └╥┘\n",
              "c: 2/═══════════════════════════╩══╩═\n",
              "                                0  1 "
            ],
            "text/html": [
              "<pre style=\"word-wrap: normal;white-space: pre;background: #fff0;line-height: 1.1;font-family: &quot;Courier New&quot;,Courier,monospace\">           ░                 ░       \n",
              "q_0: ──────░───■─────────■───░───────\n",
              "     ┌───┐ ░   │         │   ░       \n",
              "q_1: ┤ X ├─░───┼────■────■───░───────\n",
              "     └───┘ ░ ┌─┴─┐┌─┴─┐  │   ░ ┌─┐   \n",
              "q_2: ──────░─┤ X ├┤ X ├──┼───░─┤M├───\n",
              "           ░ └───┘└───┘┌─┴─┐ ░ └╥┘┌─┐\n",
              "q_3: ──────░───────────┤ X ├─░──╫─┤M├\n",
              "           ░           └───┘ ░  ║ └╥┘\n",
              "c: 2/═══════════════════════════╩══╩═\n",
              "                                0  1 </pre>"
            ]
          },
          "metadata": {},
          "execution_count": 8
        }
      ]
    },
    {
      "cell_type": "code",
      "source": [
        "backend = Aer.get_backend('qasm_simulator')\n",
        "counts = execute(qc_ha,backend).result().get_counts()\n",
        "plot_histogram(counts)"
      ],
      "metadata": {
        "colab": {
          "base_uri": "https://localhost:8080/",
          "height": 461
        },
        "id": "sIT5Hik0ch1z",
        "outputId": "483cb0f3-1bd5-47de-c664-b1a0a0145107"
      },
      "execution_count": null,
      "outputs": [
        {
          "output_type": "execute_result",
          "data": {
            "text/plain": [
              "<Figure size 700x500 with 1 Axes>"
            ],
            "image/png": "[encoded data removed]"
          },
          "metadata": {},
          "execution_count": 9
        }
      ]
    }
  ]
}